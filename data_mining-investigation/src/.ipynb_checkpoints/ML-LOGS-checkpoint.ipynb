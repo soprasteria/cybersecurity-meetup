{
 "cells": [
  {
   "cell_type": "markdown",
   "metadata": {},
   "source": [
    "# License\n",
    "Copyright (c) 2019 Sopra Steria All rights reserved.\n",
    "This work is licensed under the terms of the MIT license.  \n",
    "For a copy, see https://opensource.org/licenses/MIT."
   ]
  },
  {
   "cell_type": "code",
   "execution_count": 17,
   "metadata": {
    "scrolled": false
   },
   "outputs": [
    {
     "data": {
      "text/html": [
       "<hr/><h1>Imports</h1><br/><table><tr><td>dataset</td><td>rows</td><td>temp_agg</td></tr><tr><td>2016-05-26.tab</td><td>4177</td><td>280</td></tr><tr><td>2016-05-18.tab</td><td>25553</td><td>199</td></tr><tr><td>2016-05-28.tab</td><td>2924</td><td>2</td></tr><tr><td>2016-05-29.tab</td><td>2918</td><td>4</td></tr><tr><td>2016-06-07.tab</td><td>2224</td><td>14</td></tr><tr><td>2016-06-06.tab</td><td>27006</td><td>74</td></tr><tr><td>2016-05-11.tab</td><td>557</td><td>155</td></tr><tr><td>2016-05-21.tab</td><td>3</td><td>2</td></tr><tr><td>2016-06-01.tab</td><td>83599</td><td>219</td></tr><tr><td>2016-05-13.tab</td><td>157</td><td>63</td></tr><tr><td>2016-05-25.tab</td><td>3745</td><td>185</td></tr><tr><td>2016-05-27.tab</td><td>8281</td><td>134</td></tr><tr><td>2016-05-20.tab</td><td>18851</td><td>99</td></tr><tr><td>2016-05-22.tab</td><td>1</td><td>1</td></tr><tr><td>2016-05-10.tab</td><td>3358</td><td>112</td></tr><tr><td>2016-06-04.tab</td><td>26494</td><td>17</td></tr><tr><td>2016-05-24.tab</td><td>9</td><td>5</td></tr><tr><td>2016-05-16.tab</td><td>5</td><td>5</td></tr><tr><td>2016-05-12.tab</td><td>195</td><td>71</td></tr><tr><td>2016-05-30.tab</td><td>32874</td><td>292</td></tr><tr><td>2016-05-23.tab</td><td>327</td><td>58</td></tr><tr><td>2016-05-31.tab</td><td>57454</td><td>187</td></tr><tr><td>2016-06-02.tab</td><td>82256</td><td>331</td></tr><tr><td>2016-06-05.tab</td><td>25481</td><td>18</td></tr><tr><td>2016-06-03.tab</td><td>41626</td><td>164</td></tr><tr><td>2016-05-17.tab</td><td>84</td><td>48</td></tr><tr><td>2016-05-19.tab</td><td>38928</td><td>87</td></tr></table>"
      ],
      "text/plain": [
       "<IPython.core.display.HTML object>"
      ]
     },
     "metadata": {},
     "output_type": "display_data"
    }
   ],
   "source": [
    "#!/usr/bin/python3\n",
    "# -*- coding: utf-8 -*-\n",
    "\n",
    "import Orange\n",
    "from Orange.data import Domain, Table,Instance, DiscreteVariable, ContinuousVariable, StringVariable\n",
    "from Orange.statistics import contingency\n",
    "import features\n",
    "import features_frequency\n",
    "import os\n",
    "import sys\n",
    "from IPython.display import HTML, display\n",
    "\n",
    "tables={}\n",
    "temp_tables={}\n",
    "nb_tables=1\n",
    "curr_table=1\n",
    "stats=[['dataset','rows','temp_agg']]\n",
    "for i in os.listdir(os.getcwd()+\"/../data\"):\n",
    "    if i.endswith(\".tab\"): \n",
    "        #print(os.getcwd()+\"/../data/\"+i)\n",
    "        ds_table=Table(os.getcwd()+\"/../data/\"+i)\n",
    "        new_table=features.generateFeatures(ds_table)\n",
    "        #print(new_table[0])\n",
    "        new_tmp_table=features_frequency.temp_byte_features(ds_table)\n",
    "        #print(new_tmp_table[0])\n",
    "        if new_table:\n",
    "            tables[i]=new_table\n",
    "        if new_tmp_table:\n",
    "            temp_tables[i]=new_tmp_table\n",
    "        stats.append([i,len(new_table),len(new_tmp_table)])\n",
    "        #if curr_table>nb_tables:\n",
    "        #    break\n",
    "        curr_table+=1\n",
    "display(HTML(\n",
    "'<hr/><h1>Imports</h1><br/><table><tr>{}</tr></table>'.format(\n",
    "    '</tr><tr>'.join(\n",
    "        '<td>{}</td>'.format('</td><td>'.join(str(_) for _ in row)) for row in stats)\n",
    ")))"
   ]
  },
  {
   "cell_type": "code",
   "execution_count": 18,
   "metadata": {
    "scrolled": false
   },
   "outputs": [
    {
     "name": "stdout",
     "output_type": "stream",
     "text": [
      "2016-05-26.tab\n"
     ]
    },
    {
     "data": {
      "text/html": [
       "<table><tr><td>TYPE</td><td>DATETIME</td><td>USER</td><td>URL</td><td>REFFERER</td></tr></table>"
      ],
      "text/plain": [
       "<IPython.core.display.HTML object>"
      ]
     },
     "metadata": {},
     "output_type": "display_data"
    },
    {
     "name": "stdout",
     "output_type": "stream",
     "text": [
      "2016-05-18.tab\n"
     ]
    },
    {
     "data": {
      "text/html": [
       "<table><tr><td>TYPE</td><td>DATETIME</td><td>USER</td><td>URL</td><td>REFFERER</td></tr></table>"
      ],
      "text/plain": [
       "<IPython.core.display.HTML object>"
      ]
     },
     "metadata": {},
     "output_type": "display_data"
    },
    {
     "name": "stdout",
     "output_type": "stream",
     "text": [
      "2016-05-28.tab\n"
     ]
    },
    {
     "data": {
      "text/html": [
       "<table><tr><td>TYPE</td><td>DATETIME</td><td>USER</td><td>URL</td><td>REFFERER</td></tr></table>"
      ],
      "text/plain": [
       "<IPython.core.display.HTML object>"
      ]
     },
     "metadata": {},
     "output_type": "display_data"
    },
    {
     "name": "stdout",
     "output_type": "stream",
     "text": [
      "2016-05-29.tab\n"
     ]
    },
    {
     "data": {
      "text/html": [
       "<table><tr><td>TYPE</td><td>DATETIME</td><td>USER</td><td>URL</td><td>REFFERER</td></tr></table>"
      ],
      "text/plain": [
       "<IPython.core.display.HTML object>"
      ]
     },
     "metadata": {},
     "output_type": "display_data"
    },
    {
     "name": "stdout",
     "output_type": "stream",
     "text": [
      "2016-06-07.tab\n"
     ]
    },
    {
     "data": {
      "text/html": [
       "<table><tr><td>TYPE</td><td>DATETIME</td><td>USER</td><td>URL</td><td>REFFERER</td></tr></table>"
      ],
      "text/plain": [
       "<IPython.core.display.HTML object>"
      ]
     },
     "metadata": {},
     "output_type": "display_data"
    },
    {
     "name": "stdout",
     "output_type": "stream",
     "text": [
      "2016-06-06.tab\n"
     ]
    },
    {
     "data": {
      "text/html": [
       "<table><tr><td>TYPE</td><td>DATETIME</td><td>USER</td><td>URL</td><td>REFFERER</td></tr></table>"
      ],
      "text/plain": [
       "<IPython.core.display.HTML object>"
      ]
     },
     "metadata": {},
     "output_type": "display_data"
    },
    {
     "name": "stdout",
     "output_type": "stream",
     "text": [
      "2016-05-11.tab\n"
     ]
    },
    {
     "data": {
      "text/html": [
       "<table><tr><td>TYPE</td><td>DATETIME</td><td>USER</td><td>URL</td><td>REFFERER</td></tr></table>"
      ],
      "text/plain": [
       "<IPython.core.display.HTML object>"
      ]
     },
     "metadata": {},
     "output_type": "display_data"
    },
    {
     "name": "stdout",
     "output_type": "stream",
     "text": [
      "2016-05-21.tab\n"
     ]
    },
    {
     "data": {
      "text/html": [
       "<table><tr><td>TYPE</td><td>DATETIME</td><td>USER</td><td>URL</td><td>REFFERER</td></tr></table>"
      ],
      "text/plain": [
       "<IPython.core.display.HTML object>"
      ]
     },
     "metadata": {},
     "output_type": "display_data"
    },
    {
     "name": "stdout",
     "output_type": "stream",
     "text": [
      "2016-06-01.tab\n"
     ]
    },
    {
     "data": {
      "text/html": [
       "<table><tr><td>TYPE</td><td>DATETIME</td><td>USER</td><td>URL</td><td>REFFERER</td></tr></table>"
      ],
      "text/plain": [
       "<IPython.core.display.HTML object>"
      ]
     },
     "metadata": {},
     "output_type": "display_data"
    },
    {
     "name": "stdout",
     "output_type": "stream",
     "text": [
      "2016-05-13.tab\n"
     ]
    },
    {
     "data": {
      "text/html": [
       "<table><tr><td>TYPE</td><td>DATETIME</td><td>USER</td><td>URL</td><td>REFFERER</td></tr></table>"
      ],
      "text/plain": [
       "<IPython.core.display.HTML object>"
      ]
     },
     "metadata": {},
     "output_type": "display_data"
    },
    {
     "name": "stdout",
     "output_type": "stream",
     "text": [
      "2016-05-25.tab\n"
     ]
    },
    {
     "data": {
      "text/html": [
       "<table><tr><td>TYPE</td><td>DATETIME</td><td>USER</td><td>URL</td><td>REFFERER</td></tr></table>"
      ],
      "text/plain": [
       "<IPython.core.display.HTML object>"
      ]
     },
     "metadata": {},
     "output_type": "display_data"
    },
    {
     "name": "stdout",
     "output_type": "stream",
     "text": [
      "2016-05-27.tab\n"
     ]
    },
    {
     "data": {
      "text/html": [
       "<table><tr><td>TYPE</td><td>DATETIME</td><td>USER</td><td>URL</td><td>REFFERER</td></tr><tr><td>ATTACK</td><td>2016-05-27 15:18:58</td><td>user_1520</td><td>tcp://prepareyourtrip.co.uk:443/</td><td>-</td></tr><tr><td>ATTACK</td><td>2016-05-27 15:21:00</td><td>user_1520</td><td>tcp://prepareyourtrip.co.uk:443/</td><td>-</td></tr><tr><td>ATTACK</td><td>2016-05-27 15:23:02</td><td>user_1520</td><td>tcp://prepareyourtrip.co.uk:443/</td><td>-</td></tr><tr><td>ATTACK</td><td>2016-05-27 15:25:04</td><td>user_1520</td><td>tcp://prepareyourtrip.co.uk:443/</td><td>-</td></tr><tr><td>ATTACK</td><td>2016-05-27 15:25:06</td><td>user_1520</td><td>tcp://prepareyourtrip.co.uk:443/</td><td>-</td></tr><tr><td>ATTACK</td><td>2016-05-27 16:20:46</td><td>user_1520</td><td>tcp://prepareyourtrip.co.uk:443/</td><td>-</td></tr><tr><td>ATTACK</td><td>2016-05-27 16:20:48</td><td>user_1520</td><td>tcp://prepareyourtrip.co.uk:443/</td><td>-</td></tr><tr><td>ATTACK</td><td>2016-05-27 16:20:50</td><td>user_1520</td><td>tcp://prepareyourtrip.co.uk:443/</td><td>-</td></tr></table>"
      ],
      "text/plain": [
       "<IPython.core.display.HTML object>"
      ]
     },
     "metadata": {},
     "output_type": "display_data"
    },
    {
     "name": "stdout",
     "output_type": "stream",
     "text": [
      "2016-05-20.tab\n"
     ]
    },
    {
     "data": {
      "text/html": [
       "<table><tr><td>TYPE</td><td>DATETIME</td><td>USER</td><td>URL</td><td>REFFERER</td></tr></table>"
      ],
      "text/plain": [
       "<IPython.core.display.HTML object>"
      ]
     },
     "metadata": {},
     "output_type": "display_data"
    },
    {
     "name": "stdout",
     "output_type": "stream",
     "text": [
      "2016-05-22.tab\n"
     ]
    },
    {
     "data": {
      "text/html": [
       "<table><tr><td>TYPE</td><td>DATETIME</td><td>USER</td><td>URL</td><td>REFFERER</td></tr></table>"
      ],
      "text/plain": [
       "<IPython.core.display.HTML object>"
      ]
     },
     "metadata": {},
     "output_type": "display_data"
    },
    {
     "name": "stdout",
     "output_type": "stream",
     "text": [
      "2016-05-10.tab\n"
     ]
    },
    {
     "data": {
      "text/html": [
       "<table><tr><td>TYPE</td><td>DATETIME</td><td>USER</td><td>URL</td><td>REFFERER</td></tr></table>"
      ],
      "text/plain": [
       "<IPython.core.display.HTML object>"
      ]
     },
     "metadata": {},
     "output_type": "display_data"
    },
    {
     "name": "stdout",
     "output_type": "stream",
     "text": [
      "2016-06-04.tab\n"
     ]
    },
    {
     "data": {
      "text/html": [
       "<table><tr><td>TYPE</td><td>DATETIME</td><td>USER</td><td>URL</td><td>REFFERER</td></tr></table>"
      ],
      "text/plain": [
       "<IPython.core.display.HTML object>"
      ]
     },
     "metadata": {},
     "output_type": "display_data"
    },
    {
     "name": "stdout",
     "output_type": "stream",
     "text": [
      "2016-05-24.tab\n"
     ]
    },
    {
     "data": {
      "text/html": [
       "<table><tr><td>TYPE</td><td>DATETIME</td><td>USER</td><td>URL</td><td>REFFERER</td></tr></table>"
      ],
      "text/plain": [
       "<IPython.core.display.HTML object>"
      ]
     },
     "metadata": {},
     "output_type": "display_data"
    },
    {
     "name": "stdout",
     "output_type": "stream",
     "text": [
      "2016-05-16.tab\n"
     ]
    },
    {
     "data": {
      "text/html": [
       "<table><tr><td>TYPE</td><td>DATETIME</td><td>USER</td><td>URL</td><td>REFFERER</td></tr></table>"
      ],
      "text/plain": [
       "<IPython.core.display.HTML object>"
      ]
     },
     "metadata": {},
     "output_type": "display_data"
    },
    {
     "name": "stdout",
     "output_type": "stream",
     "text": [
      "2016-05-12.tab\n"
     ]
    },
    {
     "data": {
      "text/html": [
       "<table><tr><td>TYPE</td><td>DATETIME</td><td>USER</td><td>URL</td><td>REFFERER</td></tr></table>"
      ],
      "text/plain": [
       "<IPython.core.display.HTML object>"
      ]
     },
     "metadata": {},
     "output_type": "display_data"
    },
    {
     "name": "stdout",
     "output_type": "stream",
     "text": [
      "2016-05-30.tab\n"
     ]
    },
    {
     "data": {
      "text/html": [
       "<table><tr><td>TYPE</td><td>DATETIME</td><td>USER</td><td>URL</td><td>REFFERER</td></tr></table>"
      ],
      "text/plain": [
       "<IPython.core.display.HTML object>"
      ]
     },
     "metadata": {},
     "output_type": "display_data"
    },
    {
     "name": "stdout",
     "output_type": "stream",
     "text": [
      "2016-05-23.tab\n"
     ]
    },
    {
     "data": {
      "text/html": [
       "<table><tr><td>TYPE</td><td>DATETIME</td><td>USER</td><td>URL</td><td>REFFERER</td></tr></table>"
      ],
      "text/plain": [
       "<IPython.core.display.HTML object>"
      ]
     },
     "metadata": {},
     "output_type": "display_data"
    },
    {
     "name": "stdout",
     "output_type": "stream",
     "text": [
      "2016-05-31.tab\n"
     ]
    },
    {
     "data": {
      "text/html": [
       "<table><tr><td>TYPE</td><td>DATETIME</td><td>USER</td><td>URL</td><td>REFFERER</td></tr></table>"
      ],
      "text/plain": [
       "<IPython.core.display.HTML object>"
      ]
     },
     "metadata": {},
     "output_type": "display_data"
    },
    {
     "name": "stdout",
     "output_type": "stream",
     "text": [
      "2016-06-02.tab\n"
     ]
    },
    {
     "data": {
      "text/html": [
       "<table><tr><td>TYPE</td><td>DATETIME</td><td>USER</td><td>URL</td><td>REFFERER</td></tr></table>"
      ],
      "text/plain": [
       "<IPython.core.display.HTML object>"
      ]
     },
     "metadata": {},
     "output_type": "display_data"
    },
    {
     "name": "stdout",
     "output_type": "stream",
     "text": [
      "2016-06-05.tab\n"
     ]
    },
    {
     "data": {
      "text/html": [
       "<table><tr><td>TYPE</td><td>DATETIME</td><td>USER</td><td>URL</td><td>REFFERER</td></tr></table>"
      ],
      "text/plain": [
       "<IPython.core.display.HTML object>"
      ]
     },
     "metadata": {},
     "output_type": "display_data"
    },
    {
     "name": "stdout",
     "output_type": "stream",
     "text": [
      "2016-06-03.tab\n"
     ]
    },
    {
     "data": {
      "text/html": [
       "<table><tr><td>TYPE</td><td>DATETIME</td><td>USER</td><td>URL</td><td>REFFERER</td></tr></table>"
      ],
      "text/plain": [
       "<IPython.core.display.HTML object>"
      ]
     },
     "metadata": {},
     "output_type": "display_data"
    },
    {
     "name": "stdout",
     "output_type": "stream",
     "text": [
      "2016-05-17.tab\n"
     ]
    },
    {
     "data": {
      "text/html": [
       "<table><tr><td>TYPE</td><td>DATETIME</td><td>USER</td><td>URL</td><td>REFFERER</td></tr></table>"
      ],
      "text/plain": [
       "<IPython.core.display.HTML object>"
      ]
     },
     "metadata": {},
     "output_type": "display_data"
    },
    {
     "name": "stdout",
     "output_type": "stream",
     "text": [
      "2016-05-19.tab\n"
     ]
    },
    {
     "data": {
      "text/html": [
       "<table><tr><td>TYPE</td><td>DATETIME</td><td>USER</td><td>URL</td><td>REFFERER</td></tr></table>"
      ],
      "text/plain": [
       "<IPython.core.display.HTML object>"
      ]
     },
     "metadata": {},
     "output_type": "display_data"
    },
    {
     "data": {
      "text/html": [
       "<hr/><h1>SUMMARY</h1><br/><table><tr><td>logfile</td><td>events</td><td>attack_events</td><td>detected</td><td>others_detections</td><td>nb_dim_err</td></tr><tr><td>2016-05-26.tab</td><td>4177</td><td>613</td><td>0</td><td>11</td><td>0</td></tr><tr><td>2016-05-18.tab</td><td>25553</td><td>0</td><td>0</td><td>1</td><td>NaN</td></tr><tr><td>2016-05-28.tab</td><td>2924</td><td>2920</td><td>0</td><td>0</td><td>0</td></tr><tr><td>2016-05-29.tab</td><td>2918</td><td>2909</td><td>0</td><td>0</td><td>0</td></tr><tr><td>2016-06-07.tab</td><td>2224</td><td>0</td><td>0</td><td>0</td><td>NaN</td></tr><tr><td>2016-06-06.tab</td><td>27006</td><td>53</td><td>0</td><td>0</td><td>0</td></tr><tr><td>2016-05-11.tab</td><td>557</td><td>0</td><td>0</td><td>0</td><td>NaN</td></tr><tr><td>2016-05-21.tab</td><td>3</td><td>0</td><td>0</td><td>0</td><td>NaN</td></tr><tr><td>2016-06-01.tab</td><td>83599</td><td>4</td><td>0</td><td>9</td><td>0</td></tr><tr><td>2016-05-13.tab</td><td>157</td><td>0</td><td>0</td><td>1</td><td>NaN</td></tr><tr><td>2016-05-25.tab</td><td>3745</td><td>767</td><td>0</td><td>0</td><td>0</td></tr><tr><td>2016-05-27.tab</td><td>8281</td><td>1482</td><td>8</td><td>62</td><td>10.0</td></tr><tr><td>2016-05-20.tab</td><td>18851</td><td>0</td><td>0</td><td>0</td><td>NaN</td></tr><tr><td>2016-05-22.tab</td><td>1</td><td>0</td><td>0</td><td>1</td><td>NaN</td></tr><tr><td>2016-05-10.tab</td><td>3358</td><td>0</td><td>0</td><td>5</td><td>NaN</td></tr><tr><td>2016-06-04.tab</td><td>26494</td><td>0</td><td>0</td><td>0</td><td>NaN</td></tr><tr><td>2016-05-24.tab</td><td>9</td><td>0</td><td>0</td><td>0</td><td>NaN</td></tr><tr><td>2016-05-16.tab</td><td>5</td><td>0</td><td>0</td><td>0</td><td>NaN</td></tr><tr><td>2016-05-12.tab</td><td>195</td><td>0</td><td>0</td><td>0</td><td>NaN</td></tr><tr><td>2016-05-30.tab</td><td>32874</td><td>1360</td><td>0</td><td>4</td><td>0</td></tr><tr><td>2016-05-23.tab</td><td>327</td><td>92</td><td>0</td><td>0</td><td>0</td></tr><tr><td>2016-05-31.tab</td><td>57454</td><td>6</td><td>0</td><td>8</td><td>0</td></tr><tr><td>2016-06-02.tab</td><td>82256</td><td>18</td><td>0</td><td>35</td><td>0</td></tr><tr><td>2016-06-05.tab</td><td>25481</td><td>0</td><td>0</td><td>0</td><td>NaN</td></tr><tr><td>2016-06-03.tab</td><td>41626</td><td>31</td><td>0</td><td>0</td><td>0</td></tr><tr><td>2016-05-17.tab</td><td>84</td><td>0</td><td>0</td><td>0</td><td>NaN</td></tr><tr><td>2016-05-19.tab</td><td>38928</td><td>0</td><td>0</td><td>0</td><td>NaN</td></tr></table>"
      ],
      "text/plain": [
       "<IPython.core.display.HTML object>"
      ]
     },
     "metadata": {},
     "output_type": "display_data"
    }
   ],
   "source": [
    "import numpy as np, bisect\n",
    "from sklearn.svm import OneClassSVM\n",
    "from sklearn import decomposition\n",
    "import rpca\n",
    "from sklearn.cluster import KMeans\n",
    "from sklearn.preprocessing import normalize\n",
    "from IPython.display import HTML, display\n",
    "\n",
    "\n",
    "dataset_number=1\n",
    "dataset_results=[[\"logfile\",\"events\",\"attack_events\",\"detected\",\"others_detections\",\"nb_dim_err\"]]\n",
    "for dataset_name,dataset in tables.items():\n",
    "    print(dataset_name)\n",
    "    tagged=0\n",
    "    expected=0\n",
    "    others=0\n",
    "    population=len(dataset)\n",
    "    for data in dataset:\n",
    "        if data['TYPE']==\"ATTACK\":\n",
    "            tagged+=1\n",
    "    X = dataset.X\n",
    "    result_rpca = rpca.rpca(X,verbose=False, max_iter=10000)\n",
    "    outliers_rpca=result_rpca[1]\n",
    "    nb_non_zero=[]\n",
    "    matched=[[\"TYPE\",\"DATETIME\",\"USER\",\"URL\",\"REFFERER\"]]\n",
    "    for i,value in enumerate(outliers_rpca):\n",
    "        if np.count_nonzero(outliers_rpca[i]) > 9:\n",
    "            if dataset[i]['TYPE']==\"ATTACK\":\n",
    "                expected+=1\n",
    "                nb_non_zero.append(np.count_nonzero(outliers_rpca[i]))\n",
    "                matched.append([dataset[i]['TYPE'],dataset[i]['DATETIME'],dataset[i]['USER'],dataset[i]['URL'],dataset[i]['REFERRER']])\n",
    "            else:\n",
    "                others+=1\n",
    "    ratio=0\n",
    "    avg_nb_non_zero=0\n",
    "    if expected>0:\n",
    "        avg_nb_non_zero=sum(nb_non_zero)/len(nb_non_zero)\n",
    "        ratio=expected/tagged*100\n",
    "    elif tagged==0:\n",
    "        ratio='NaN'\n",
    "        avg_nb_non_zero='NaN'\n",
    "    dataset_results.append([dataset_name,population,tagged,expected,others,avg_nb_non_zero])\n",
    "    display(HTML(\n",
    "'<table><tr>{}</tr></table>'.format(\n",
    "    '</tr><tr>'.join(\n",
    "        '<td>{}</td>'.format('</td><td>'.join(str(_) for _ in row)) for row in matched)\n",
    ")))\n",
    "    dataset_number+=1\n",
    "\n",
    "display(HTML(\n",
    "'<hr/><h1>SUMMARY</h1><br/><table><tr>{}</tr></table>'.format(\n",
    "    '</tr><tr>'.join(\n",
    "        '<td>{}</td>'.format('</td><td>'.join(str(_) for _ in row)) for row in dataset_results)\n",
    ")))"
   ]
  },
  {
   "cell_type": "code",
   "execution_count": 19,
   "metadata": {},
   "outputs": [
    {
     "name": "stdout",
     "output_type": "stream",
     "text": [
      "2016-05-26.tab 280 280\n",
      "2016-05-18.tab 199 199\n",
      "2016-05-28.tab 2 2\n",
      "2016-05-29.tab 4 4\n",
      "2016-06-07.tab 14 14\n",
      "2016-06-06.tab 74 74\n",
      "2016-05-11.tab 155 155\n",
      "2016-05-21.tab 2 2\n",
      "2016-06-01.tab 219 219\n",
      "2016-05-13.tab 63 63\n",
      "2016-05-25.tab 185 185\n",
      "2016-05-27.tab 134 134\n",
      "2016-05-20.tab 99 99\n",
      "2016-05-22.tab 1 1\n",
      "2016-05-10.tab 112 112\n",
      "2016-06-04.tab 17 17\n",
      "2016-05-24.tab 5 5\n",
      "2016-05-16.tab 5 5\n",
      "2016-05-12.tab 71 71\n",
      "2016-05-30.tab 292 292\n",
      "2016-05-23.tab 58 58\n",
      "2016-05-31.tab 187 187\n",
      "2016-06-02.tab 331 331\n",
      "2016-06-05.tab 18 18\n",
      "2016-06-03.tab 164 164\n",
      "2016-05-17.tab 48 48\n",
      "2016-05-19.tab 87 87\n"
     ]
    },
    {
     "data": {
      "text/html": [
       "<hr/><h1>SUMMARY</h1><br/><table><tr><td>logfile</td><td>events</td><td>attack_events</td><td>detected</td><td>others_detections</td><td>nb_dim_err</td></tr><tr><td>2016-05-26.tab</td><td>4177</td><td>613</td><td>0</td><td>11</td><td>0</td></tr><tr><td>2016-05-18.tab</td><td>25553</td><td>0</td><td>0</td><td>1</td><td>NaN</td></tr><tr><td>2016-05-28.tab</td><td>2924</td><td>2920</td><td>0</td><td>0</td><td>0</td></tr><tr><td>2016-05-29.tab</td><td>2918</td><td>2909</td><td>0</td><td>0</td><td>0</td></tr><tr><td>2016-06-07.tab</td><td>2224</td><td>0</td><td>0</td><td>0</td><td>NaN</td></tr><tr><td>2016-06-06.tab</td><td>27006</td><td>53</td><td>0</td><td>0</td><td>0</td></tr><tr><td>2016-05-11.tab</td><td>557</td><td>0</td><td>0</td><td>0</td><td>NaN</td></tr><tr><td>2016-05-21.tab</td><td>3</td><td>0</td><td>0</td><td>0</td><td>NaN</td></tr><tr><td>2016-06-01.tab</td><td>83599</td><td>4</td><td>0</td><td>9</td><td>0</td></tr><tr><td>2016-05-13.tab</td><td>157</td><td>0</td><td>0</td><td>1</td><td>NaN</td></tr><tr><td>2016-05-25.tab</td><td>3745</td><td>767</td><td>0</td><td>0</td><td>0</td></tr><tr><td>2016-05-27.tab</td><td>8281</td><td>1482</td><td>8</td><td>62</td><td>10.0</td></tr><tr><td>2016-05-20.tab</td><td>18851</td><td>0</td><td>0</td><td>0</td><td>NaN</td></tr><tr><td>2016-05-22.tab</td><td>1</td><td>0</td><td>0</td><td>1</td><td>NaN</td></tr><tr><td>2016-05-10.tab</td><td>3358</td><td>0</td><td>0</td><td>5</td><td>NaN</td></tr><tr><td>2016-06-04.tab</td><td>26494</td><td>0</td><td>0</td><td>0</td><td>NaN</td></tr><tr><td>2016-05-24.tab</td><td>9</td><td>0</td><td>0</td><td>0</td><td>NaN</td></tr><tr><td>2016-05-16.tab</td><td>5</td><td>0</td><td>0</td><td>0</td><td>NaN</td></tr><tr><td>2016-05-12.tab</td><td>195</td><td>0</td><td>0</td><td>0</td><td>NaN</td></tr><tr><td>2016-05-30.tab</td><td>32874</td><td>1360</td><td>0</td><td>4</td><td>0</td></tr><tr><td>2016-05-23.tab</td><td>327</td><td>92</td><td>0</td><td>0</td><td>0</td></tr><tr><td>2016-05-31.tab</td><td>57454</td><td>6</td><td>0</td><td>8</td><td>0</td></tr><tr><td>2016-06-02.tab</td><td>82256</td><td>18</td><td>0</td><td>35</td><td>0</td></tr><tr><td>2016-06-05.tab</td><td>25481</td><td>0</td><td>0</td><td>0</td><td>NaN</td></tr><tr><td>2016-06-03.tab</td><td>41626</td><td>31</td><td>0</td><td>0</td><td>0</td></tr><tr><td>2016-05-17.tab</td><td>84</td><td>0</td><td>0</td><td>0</td><td>NaN</td></tr><tr><td>2016-05-19.tab</td><td>38928</td><td>0</td><td>0</td><td>0</td><td>NaN</td></tr><tr><td>2016-05-19.tab</td><td>38928</td><td>0</td><td>0</td><td>137</td><td>NaN</td></tr><tr><td>2016-05-19.tab</td><td>38928</td><td>0</td><td>0</td><td>286</td><td>NaN</td></tr><tr><td>2016-05-19.tab</td><td>38928</td><td>0</td><td>0</td><td>288</td><td>NaN</td></tr><tr><td>2016-05-19.tab</td><td>38928</td><td>0</td><td>0</td><td>288</td><td>NaN</td></tr><tr><td>2016-05-19.tab</td><td>38928</td><td>0</td><td>0</td><td>290</td><td>NaN</td></tr><tr><td>2016-05-19.tab</td><td>38928</td><td>0</td><td>0</td><td>334</td><td>NaN</td></tr><tr><td>2016-05-19.tab</td><td>38928</td><td>0</td><td>0</td><td>408</td><td>NaN</td></tr><tr><td>2016-05-19.tab</td><td>38928</td><td>0</td><td>0</td><td>410</td><td>NaN</td></tr><tr><td>2016-05-19.tab</td><td>38928</td><td>0</td><td>0</td><td>539</td><td>NaN</td></tr><tr><td>2016-05-19.tab</td><td>38928</td><td>0</td><td>0</td><td>555</td><td>NaN</td></tr><tr><td>2016-05-19.tab</td><td>38928</td><td>0</td><td>0</td><td>692</td><td>NaN</td></tr><tr><td>2016-05-19.tab</td><td>38928</td><td>0</td><td>0</td><td>714</td><td>NaN</td></tr><tr><td>2016-05-19.tab</td><td>38928</td><td>0</td><td>0</td><td>777</td><td>NaN</td></tr><tr><td>2016-05-19.tab</td><td>38928</td><td>0</td><td>0</td><td>777</td><td>NaN</td></tr><tr><td>2016-05-19.tab</td><td>38928</td><td>0</td><td>0</td><td>836</td><td>NaN</td></tr><tr><td>2016-05-19.tab</td><td>38928</td><td>0</td><td>0</td><td>841</td><td>NaN</td></tr><tr><td>2016-05-19.tab</td><td>38928</td><td>0</td><td>0</td><td>841</td><td>NaN</td></tr><tr><td>2016-05-19.tab</td><td>38928</td><td>0</td><td>0</td><td>841</td><td>NaN</td></tr><tr><td>2016-05-19.tab</td><td>38928</td><td>0</td><td>0</td><td>856</td><td>NaN</td></tr><tr><td>2016-05-19.tab</td><td>38928</td><td>0</td><td>0</td><td>1060</td><td>NaN</td></tr><tr><td>2016-05-19.tab</td><td>38928</td><td>0</td><td>0</td><td>1086</td><td>NaN</td></tr><tr><td>2016-05-19.tab</td><td>38928</td><td>0</td><td>0</td><td>1219</td><td>NaN</td></tr><tr><td>2016-05-19.tab</td><td>38928</td><td>0</td><td>0</td><td>1429</td><td>NaN</td></tr><tr><td>2016-05-19.tab</td><td>38928</td><td>0</td><td>0</td><td>1436</td><td>NaN</td></tr><tr><td>2016-05-19.tab</td><td>38928</td><td>0</td><td>0</td><td>1527</td><td>NaN</td></tr><tr><td>2016-05-19.tab</td><td>38928</td><td>0</td><td>0</td><td>1537</td><td>NaN</td></tr><tr><td>2016-05-19.tab</td><td>38928</td><td>0</td><td>0</td><td>1589</td><td>NaN</td></tr></table>"
      ],
      "text/plain": [
       "<IPython.core.display.HTML object>"
      ]
     },
     "metadata": {},
     "output_type": "display_data"
    }
   ],
   "source": [
    "import numpy as np\n",
    "import rpca\n",
    "for temp_dataset_name,temp_dataset in temp_tables.items():\n",
    "    #for data in dataset:\n",
    "    #    if data['TYPE']==\"ATTACK\":\n",
    "    #        tagged+=1\n",
    "    temp_X = temp_dataset.X\n",
    "    temp_result_rpca = rpca.rpca(temp_X,verbose=False, max_iter=10000)\n",
    "    temp_outliers_rpca=temp_result_rpca[1]\n",
    "    print(temp_dataset_name,len(temp_dataset),len(temp_result_rpca[1]))\n",
    "    nb_non_zero=[]\n",
    "    matched=[[\"TYPE\",\"DATETIME\",\"USER\",\"URL\",\"REFFERER\"]]\n",
    "    for j,temp_value in enumerate(temp_outliers_rpca):\n",
    "        if np.count_nonzero(temp_outliers_rpca[j]) > 9:\n",
    "            #print(j)\n",
    "            #print(temp_outliers_rpca[j])\n",
    "\n",
    "            if dataset[i]['TYPE']==\"ATTACK\":\n",
    "                expected+=1\n",
    "                nb_non_zero.append(np.count_nonzero(outliers_rpca[i]))\n",
    "                matched.append([dataset[i]['TYPE'],dataset[i]['DATETIME'],dataset[i]['USER'],dataset[i]['URL'],dataset[i]['REFERRER']])\n",
    "            else:\n",
    "                others+=1\n",
    "    ratio=0\n",
    "    avg_nb_non_zero=0\n",
    "    if expected>0:\n",
    "        avg_nb_non_zero=sum(nb_non_zero)/len(nb_non_zero)\n",
    "        ratio=expected/tagged*100\n",
    "    elif tagged==0:\n",
    "        ratio='NaN'\n",
    "        avg_nb_non_zero='NaN'\n",
    "    dataset_results.append([dataset_name,population,tagged,expected,others,avg_nb_non_zero])\n",
    "#    display(HTML(\n",
    "#'<table><tr>{}</tr></table>'.format(\n",
    "#    '</tr><tr>'.join(\n",
    "#        '<td>{}</td>'.format('</td><td>'.join(str(_) for _ in row)) for row in matched)\n",
    "#)))\n",
    "    dataset_number+=1\n",
    "\n",
    "display(HTML(\n",
    "'<hr/><h1>SUMMARY</h1><br/><table><tr>{}</tr></table>'.format(\n",
    "    '</tr><tr>'.join(\n",
    "        '<td>{}</td>'.format('</td><td>'.join(str(_) for _ in row)) for row in dataset_results)\n",
    ")))"
   ]
  },
  {
   "cell_type": "code",
   "execution_count": null,
   "metadata": {},
   "outputs": [],
   "source": []
  },
  {
   "cell_type": "code",
   "execution_count": null,
   "metadata": {},
   "outputs": [],
   "source": []
  }
 ],
 "metadata": {
  "kernelspec": {
   "display_name": "Python 3",
   "language": "python",
   "name": "python3"
  },
  "language_info": {
   "codemirror_mode": {
    "name": "ipython",
    "version": 3
   },
   "file_extension": ".py",
   "mimetype": "text/x-python",
   "name": "python",
   "nbconvert_exporter": "python",
   "pygments_lexer": "ipython3",
   "version": "3.6.7"
  }
 },
 "nbformat": 4,
 "nbformat_minor": 1
}
